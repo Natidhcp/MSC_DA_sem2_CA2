{
 "cells": [
  {
   "cell_type": "markdown",
   "id": "8c01c977",
   "metadata": {},
   "source": [
    "## Load Data"
   ]
  },
  {
   "cell_type": "code",
   "execution_count": null,
   "id": "49a9d45f",
   "metadata": {},
   "outputs": [],
   "source": []
  },
  {
   "cell_type": "code",
   "execution_count": 1,
   "id": "e2a032b3",
   "metadata": {
    "scrolled": false
   },
   "outputs": [
    {
     "data": {
      "text/html": [
       "\n",
       "        <div>\n",
       "            <p><b>SparkContext</b></p>\n",
       "\n",
       "            <p><a href=\"http://natalia-VirtualBox.station:4042\">Spark UI</a></p>\n",
       "\n",
       "            <dl>\n",
       "              <dt>Version</dt>\n",
       "                <dd><code>v3.4.2</code></dd>\n",
       "              <dt>Master</dt>\n",
       "                <dd><code>local[*]</code></dd>\n",
       "              <dt>AppName</dt>\n",
       "                <dd><code>PySparkShell</code></dd>\n",
       "            </dl>\n",
       "        </div>\n",
       "        "
      ],
      "text/plain": [
       "<SparkContext master=local[*] appName=PySparkShell>"
      ]
     },
     "execution_count": 1,
     "metadata": {},
     "output_type": "execute_result"
    }
   ],
   "source": [
    "sc"
   ]
  },
  {
   "cell_type": "code",
   "execution_count": 2,
   "id": "406a3f49",
   "metadata": {},
   "outputs": [
    {
     "data": {
      "text/plain": [
       "'local[*]'"
      ]
     },
     "execution_count": 2,
     "metadata": {},
     "output_type": "execute_result"
    }
   ],
   "source": [
    "sc.master"
   ]
  },
  {
   "cell_type": "code",
   "execution_count": 3,
   "id": "f16c7ecc",
   "metadata": {},
   "outputs": [
    {
     "name": "stderr",
     "output_type": "stream",
     "text": [
      "24/05/21 17:21:05 WARN SparkSession: Using an existing Spark session; only runtime SQL configurations will take effect.\n"
     ]
    }
   ],
   "source": [
    "# Create a SparkSession with legacy time parser policy\n",
    "spark = SparkSession.builder \\\n",
    "    .appName(\"YourAppName\") \\\n",
    "    .config(\"spark.sql.legacy.timeParserPolicy\", \"LEGACY\") \\\n",
    "    .getOrCreate()"
   ]
  },
  {
   "cell_type": "code",
   "execution_count": 36,
   "id": "d747196c",
   "metadata": {},
   "outputs": [],
   "source": [
    "from pyspark.sql.types import *\n",
    "import pyspark\n",
    "import time\n",
    "from pyspark.sql.functions import max\n",
    "from pyspark.sql.functions import split\n",
    "from pyspark.sql.functions import size\n",
    "from pyspark.sql.functions import from_utc_timestamp\n",
    "from pyspark.sql.functions import date_format\n",
    "from pyspark.sql.functions import from_unixtime\n",
    "from pyspark.sql.functions import countDistinct\n",
    "from pyspark.sql.functions import regexp_replace\n",
    "from pyspark.sql.functions import trim\n",
    "from pyspark.sql.functions import lower\n",
    "from pyspark.sql.functions import count\n",
    "from pyspark.sql.functions import unix_timestamp\n",
    "from pyspark.sql.functions import col\n",
    "from pyspark.sql.functions import regexp_replace, col, lower, trim, concat_ws\n",
    "from pyspark.ml.feature import Tokenizer, StopWordsRemover\n",
    "import matplotlib.pyplot as plt\n",
    "\n",
    "import warnings\n",
    "# Suppress warnings\n",
    "warnings.filterwarnings(\"ignore\")\n",
    "import logging\n",
    "# Suppress WARN messages\n",
    "log = logging.getLogger('py4j')\n",
    "log.setLevel(logging.ERROR)"
   ]
  },
  {
   "cell_type": "code",
   "execution_count": 5,
   "id": "dcd9af86",
   "metadata": {
    "scrolled": true
   },
   "outputs": [
    {
     "name": "stderr",
     "output_type": "stream",
     "text": [
      "                                                                                \r"
     ]
    },
    {
     "name": "stdout",
     "output_type": "stream",
     "text": [
      "+---+----------+--------------------+--------+---------------+--------------------+\n",
      "|_c0|       _c1|                 _c2|     _c3|            _c4|                 _c5|\n",
      "+---+----------+--------------------+--------+---------------+--------------------+\n",
      "|  0|1467810369|Mon Apr 06 22:19:...|NO_QUERY|_TheSpecialOne_|@switchfoot http:...|\n",
      "|  1|1467810672|Mon Apr 06 22:19:...|NO_QUERY|  scotthamilton|is upset that he ...|\n",
      "|  2|1467810917|Mon Apr 06 22:19:...|NO_QUERY|       mattycus|@Kenichan I dived...|\n",
      "|  3|1467811184|Mon Apr 06 22:19:...|NO_QUERY|        ElleCTF|my whole body fee...|\n",
      "|  4|1467811193|Mon Apr 06 22:19:...|NO_QUERY|         Karoli|@nationwideclass ...|\n",
      "+---+----------+--------------------+--------+---------------+--------------------+\n",
      "only showing top 5 rows\n",
      "\n"
     ]
    }
   ],
   "source": [
    "df = spark.read.csv(\"hdfs://localhost:9000/user1/ProjectTweets.csv\", header=False, inferSchema=True)\n",
    "\n",
    "# Show the first few rows of the DataFrame\n",
    "df.show(5)"
   ]
  },
  {
   "cell_type": "markdown",
   "id": "8e3b1582",
   "metadata": {},
   "source": [
    "## Exploration"
   ]
  },
  {
   "cell_type": "code",
   "execution_count": 6,
   "id": "e8b5c5bd",
   "metadata": {
    "scrolled": true
   },
   "outputs": [
    {
     "name": "stderr",
     "output_type": "stream",
     "text": [
      "                                                                                \r"
     ]
    },
    {
     "data": {
      "text/plain": [
       "1600000"
      ]
     },
     "execution_count": 6,
     "metadata": {},
     "output_type": "execute_result"
    }
   ],
   "source": [
    "df.count()"
   ]
  },
  {
   "cell_type": "code",
   "execution_count": 7,
   "id": "7d41045e",
   "metadata": {},
   "outputs": [
    {
     "name": "stdout",
     "output_type": "stream",
     "text": [
      "root\n",
      " |-- ID: integer (nullable = true)\n",
      " |-- ids: long (nullable = true)\n",
      " |-- date: string (nullable = true)\n",
      " |-- flag: string (nullable = true)\n",
      " |-- user: string (nullable = true)\n",
      " |-- text: string (nullable = true)\n",
      "\n",
      "+---+----------+--------------------+--------+---------------+--------------------+\n",
      "| ID|       ids|                date|    flag|           user|                text|\n",
      "+---+----------+--------------------+--------+---------------+--------------------+\n",
      "|  0|1467810369|Mon Apr 06 22:19:...|NO_QUERY|_TheSpecialOne_|@switchfoot http:...|\n",
      "|  1|1467810672|Mon Apr 06 22:19:...|NO_QUERY|  scotthamilton|is upset that he ...|\n",
      "|  2|1467810917|Mon Apr 06 22:19:...|NO_QUERY|       mattycus|@Kenichan I dived...|\n",
      "|  3|1467811184|Mon Apr 06 22:19:...|NO_QUERY|        ElleCTF|my whole body fee...|\n",
      "|  4|1467811193|Mon Apr 06 22:19:...|NO_QUERY|         Karoli|@nationwideclass ...|\n",
      "|  5|1467811372|Mon Apr 06 22:20:...|NO_QUERY|       joy_wolf|@Kwesidei not the...|\n",
      "|  6|1467811592|Mon Apr 06 22:20:...|NO_QUERY|        mybirch|         Need a hug |\n",
      "|  7|1467811594|Mon Apr 06 22:20:...|NO_QUERY|           coZZ|@LOLTrish hey  lo...|\n",
      "|  8|1467811795|Mon Apr 06 22:20:...|NO_QUERY|2Hood4Hollywood|@Tatiana_K nope t...|\n",
      "|  9|1467812025|Mon Apr 06 22:20:...|NO_QUERY|        mimismo|@twittera que me ...|\n",
      "| 10|1467812416|Mon Apr 06 22:20:...|NO_QUERY| erinx3leannexo|spring break in p...|\n",
      "| 11|1467812579|Mon Apr 06 22:20:...|NO_QUERY|   pardonlauren|I just re-pierced...|\n",
      "| 12|1467812723|Mon Apr 06 22:20:...|NO_QUERY|           TLeC|@caregiving I cou...|\n",
      "| 13|1467812771|Mon Apr 06 22:20:...|NO_QUERY|robrobbierobert|@octolinz16 It it...|\n",
      "| 14|1467812784|Mon Apr 06 22:20:...|NO_QUERY|    bayofwolves|@smarrison i woul...|\n",
      "| 15|1467812799|Mon Apr 06 22:20:...|NO_QUERY|     HairByJess|@iamjazzyfizzle I...|\n",
      "| 16|1467812964|Mon Apr 06 22:20:...|NO_QUERY| lovesongwriter|Hollis' death sce...|\n",
      "| 17|1467813137|Mon Apr 06 22:20:...|NO_QUERY|       armotley|about to file taxes |\n",
      "| 18|1467813579|Mon Apr 06 22:20:...|NO_QUERY|     starkissed|@LettyA ahh ive a...|\n",
      "| 19|1467813782|Mon Apr 06 22:20:...|NO_QUERY|      gi_gi_bee|@FakerPattyPattz ...|\n",
      "+---+----------+--------------------+--------+---------------+--------------------+\n",
      "only showing top 20 rows\n",
      "\n"
     ]
    }
   ],
   "source": [
    "# Rename the columns\n",
    "df = df.withColumnRenamed(\"_c0\", \"ID\") \\\n",
    "       .withColumnRenamed(\"_c1\", \"ids\") \\\n",
    "       .withColumnRenamed(\"_c2\", \"date\") \\\n",
    "       .withColumnRenamed(\"_c3\", \"flag\") \\\n",
    "       .withColumnRenamed(\"_c4\", \"user\") \\\n",
    "       .withColumnRenamed(\"_c5\", \"text\")\n",
    "\n",
    "# Display the DataFrame schema to verify the changes and show the first few rows\n",
    "df.printSchema()\n",
    "df.show()"
   ]
  },
  {
   "cell_type": "code",
   "execution_count": 8,
   "id": "ac498ea4",
   "metadata": {},
   "outputs": [
    {
     "data": {
      "text/plain": [
       "'Mon Apr 06 22:19:45 PDT 2009'"
      ]
     },
     "execution_count": 8,
     "metadata": {},
     "output_type": "execute_result"
    }
   ],
   "source": [
    "df.select(\"date\").first()[0]"
   ]
  },
  {
   "cell_type": "code",
   "execution_count": 9,
   "id": "79cabfe2",
   "metadata": {
    "scrolled": false
   },
   "outputs": [
    {
     "name": "stderr",
     "output_type": "stream",
     "text": [
      "[Stage 8:============================================>              (3 + 1) / 4]\r"
     ]
    },
    {
     "name": "stdout",
     "output_type": "stream",
     "text": [
      "The maximum number of words in the 'text' field is: 110\n"
     ]
    },
    {
     "name": "stderr",
     "output_type": "stream",
     "text": [
      "\r",
      "                                                                                \r"
     ]
    }
   ],
   "source": [
    "# Select only the 'ID', 'date', and 'text' columns\n",
    "df = df.select(\"ID\", \"ids\", \"date\", \"text\")\n",
    "\n",
    "# Calculate the maximum number of words in the 'text' field\n",
    "max_words = df.withColumn(\"word_count\", size(split(df.text, \" \"))) \\\n",
    "              .agg(max(\"word_count\")).first()[0]\n",
    "\n",
    "# Display the maximum number of words in the 'text' field\n",
    "print(f\"The maximum number of words in the 'text' field is: {max_words}\")"
   ]
  },
  {
   "cell_type": "code",
   "execution_count": 10,
   "id": "b8019402",
   "metadata": {
    "scrolled": true
   },
   "outputs": [
    {
     "name": "stdout",
     "output_type": "stream",
     "text": [
      "+---+----------+--------------------+--------------------+--------------+-------------------+-----------+\n",
      "| ID|       ids|                date|                text|formatted_date|          timestamp|day_of_week|\n",
      "+---+----------+--------------------+--------------------+--------------+-------------------+-----------+\n",
      "|  0|1467810369|Mon Apr 06 22:19:...|@switchfoot http:...|    2009-04-06|2009-04-06 23:19:45|        Mon|\n",
      "|  1|1467810672|Mon Apr 06 22:19:...|is upset that he ...|    2009-04-06|2009-04-06 23:19:49|        Mon|\n",
      "|  2|1467810917|Mon Apr 06 22:19:...|@Kenichan I dived...|    2009-04-06|2009-04-06 23:19:53|        Mon|\n",
      "|  3|1467811184|Mon Apr 06 22:19:...|my whole body fee...|    2009-04-06|2009-04-06 23:19:57|        Mon|\n",
      "|  4|1467811193|Mon Apr 06 22:19:...|@nationwideclass ...|    2009-04-06|2009-04-06 23:19:57|        Mon|\n",
      "+---+----------+--------------------+--------------------+--------------+-------------------+-----------+\n",
      "only showing top 5 rows\n",
      "\n"
     ]
    }
   ],
   "source": [
    "current_format = \"EEE MMM dd HH:mm:ss zzz yyyy\"\n",
    "\n",
    "# Convert and reformat the date column\n",
    "df = df.withColumn(\"formatted_date\", date_format(\n",
    "    from_utc_timestamp(\n",
    "        from_unixtime(unix_timestamp(col(\"date\"), \"EEE MMM dd HH:mm:ss zzz yyyy\")), \"PST\"),\"yyyy-MM-dd\"))\n",
    "\n",
    "# Convert to timestamp while considering time zone\n",
    "df = df.withColumn(\"timestamp\", \n",
    "                   from_utc_timestamp(unix_timestamp(col(\"date\"), current_format).cast(\"timestamp\"), \"PST\"))\n",
    "\n",
    "# Create a new column that extracts just the day of the week (e.g., 'Mon')\n",
    "df = df.withColumn(\"day_of_week\", date_format(\"timestamp\", \"EEE\"))\n",
    "\n",
    "# Show results\n",
    "df.show(5)"
   ]
  },
  {
   "cell_type": "code",
   "execution_count": 12,
   "id": "d62b45d3",
   "metadata": {
    "scrolled": true
   },
   "outputs": [
    {
     "name": "stderr",
     "output_type": "stream",
     "text": [
      "                                                                                \r"
     ]
    },
    {
     "data": {
      "text/plain": [
       "0"
      ]
     },
     "execution_count": 12,
     "metadata": {},
     "output_type": "execute_result"
    }
   ],
   "source": [
    "# Count missing values in the 'date' column\n",
    "df.filter(col(\"formatted_date\").isNull()).count()"
   ]
  },
  {
   "cell_type": "code",
   "execution_count": 13,
   "id": "5b29bbdd",
   "metadata": {
    "scrolled": true
   },
   "outputs": [
    {
     "name": "stderr",
     "output_type": "stream",
     "text": [
      "                                                                                \r"
     ]
    },
    {
     "data": {
      "text/plain": [
       "1598315"
      ]
     },
     "execution_count": 13,
     "metadata": {},
     "output_type": "execute_result"
    }
   ],
   "source": [
    "# Remove duplicates based on the 'ids' column\n",
    "df = df.dropDuplicates([\"ids\"])\n",
    "df.count()"
   ]
  },
  {
   "cell_type": "code",
   "execution_count": 43,
   "id": "d8fc2fe6",
   "metadata": {},
   "outputs": [
    {
     "name": "stderr",
     "output_type": "stream",
     "text": [
      "[Stage 196:======================>                                  (2 + 3) / 5]\r"
     ]
    },
    {
     "name": "stdout",
     "output_type": "stream",
     "text": [
      "+-------------+-----+\n",
      "|clean_hashtag|count|\n",
      "+-------------+-----+\n",
      "|followfriday |2626 |\n",
      "|fb           |1768 |\n",
      "|ff           |980  |\n",
      "|squarespace  |934  |\n",
      "|             |709  |\n",
      "|iranelection |513  |\n",
      "|1            |500  |\n",
      "|seb          |499  |\n",
      "|musicmonday  |415  |\n",
      "|fail         |362  |\n",
      "|asot400      |324  |\n",
      "|2            |318  |\n",
      "|iphone       |315  |\n",
      "|iremember    |297  |\n",
      "|bsb          |296  |\n",
      "|myweakness   |269  |\n",
      "|marsiscoming |259  |\n",
      "|f1           |258  |\n",
      "|e3           |254  |\n",
      "|bgt          |245  |\n",
      "+-------------+-----+\n",
      "only showing top 20 rows\n",
      "\n"
     ]
    },
    {
     "name": "stderr",
     "output_type": "stream",
     "text": [
      "\r",
      "                                                                                \r"
     ]
    }
   ],
   "source": [
    "from pyspark.sql.functions import desc, lower, trim, regexp_replace\n",
    "\n",
    "# Standardize the hashtag column by converting to lowercase and removing extra spaces and punctuation\n",
    "cleaned_hashtags_df = hashtags_df.withColumn(\"clean_hashtag\", lower(trim(regexp_replace(hashtags_df[\"hashtag\"], \"[^\\w\\s]\", \"\"))))\n",
    "\n",
    "# Group by 'clean_hashtag' column and count occurrences, then order by count in descending order\n",
    "most_frequent_hashtags = cleaned_hashtags_df.groupBy(\"clean_hashtag\").count().orderBy(desc(\"count\")).limit(30)\n",
    "\n",
    "# Show the most frequent hashtags\n",
    "most_frequent_hashtags.show(truncate=False)"
   ]
  },
  {
   "cell_type": "code",
   "execution_count": 25,
   "id": "d86d73ed",
   "metadata": {},
   "outputs": [],
   "source": [
    "# Define a function to clean the text\n",
    "def clean_text(df, text_col):\n",
    "    # Remove URLs\n",
    "    df = df.withColumn(text_col, regexp_replace(col(text_col), 'http\\S+|www.\\S+', ''))\n",
    "    # Remove special characters\n",
    "    df = df.withColumn(text_col, regexp_replace(col(text_col), '[^a-zA-Z\\s]', ''))\n",
    "    # Convert to lowercase\n",
    "    df = df.withColumn(text_col, lower(col(text_col)))\n",
    "    # Trim whitespace\n",
    "    df = df.withColumn(text_col, trim(col(text_col)))\n",
    "    return df\n",
    "\n",
    "# Apply the clean_text function\n",
    "df_cleaned = clean_text(df, 'text')\n",
    "\n",
    "# Tokenize the cleaned text\n",
    "tokenizer = Tokenizer(inputCol='text', outputCol='words')\n",
    "df_tokenized = tokenizer.transform(df_cleaned)\n",
    "\n",
    "# Remove stop words\n",
    "remover = StopWordsRemover(inputCol='words', outputCol='filtered_words')\n",
    "df_preprocessed = remover.transform(df_tokenized)\n",
    "\n",
    "# Convert the array of words into a string\n",
    "df_preprocessed = df_preprocessed.withColumn('filtered_words_str', concat_ws(' ', col('filtered_words')))\n",
    "\n"
   ]
  },
  {
   "cell_type": "code",
   "execution_count": 32,
   "id": "293ebdda",
   "metadata": {
    "scrolled": true
   },
   "outputs": [
    {
     "name": "stderr",
     "output_type": "stream",
     "text": [
      "[Stage 51:===========================================>              (3 + 1) / 4]\r"
     ]
    },
    {
     "name": "stdout",
     "output_type": "stream",
     "text": [
      "+--------------+-------------------+--------------------+--------------------+\n",
      "|formatted_date|          timestamp|                text|  filtered_words_str|\n",
      "+--------------+-------------------+--------------------+--------------------+\n",
      "|    2009-04-06|2009-04-06 23:20:05|tatianak nope the...| tatianak nope didnt|\n",
      "|    2009-04-06|2009-04-06 23:20:20|iamjazzyfizzle i ...|iamjazzyfizzle wi...|\n",
      "|    2009-04-06|2009-04-06 23:20:34|fakerpattypattz o...|fakerpattypattz o...|\n",
      "|    2009-04-06|2009-04-06 23:20:37|alydesigns i was ...|alydesigns day di...|\n",
      "|    2009-04-06|2009-04-06 23:20:40|angrybarista i ba...|angrybarista bake...|\n",
      "+--------------+-------------------+--------------------+--------------------+\n",
      "only showing top 5 rows\n",
      "\n"
     ]
    },
    {
     "name": "stderr",
     "output_type": "stream",
     "text": [
      "\r",
      "                                                                                \r"
     ]
    }
   ],
   "source": [
    "# Select necessary columns from the initial dataframe and the preprocessed columns\n",
    "df_final = df_preprocessed.select('formatted_date', 'timestamp', 'text', 'filtered_words_str')\n",
    "df_final.show(5)"
   ]
  },
  {
   "cell_type": "code",
   "execution_count": 30,
   "id": "f0b16d1e",
   "metadata": {
    "scrolled": false
   },
   "outputs": [
    {
     "name": "stderr",
     "output_type": "stream",
     "text": [
      "                                                                                \r"
     ]
    }
   ],
   "source": [
    "df_single_partition = df_final.repartition(1)\n",
    "\n",
    "df_single_partition.write.csv(\"hdfs://localhost:9000/user1/ProcessedTweet.csv\", header=True)"
   ]
  },
  {
   "cell_type": "code",
   "execution_count": 32,
   "id": "78d51c59",
   "metadata": {},
   "outputs": [],
   "source": [
    "df = df.drop(\"text\")"
   ]
  },
  {
   "cell_type": "code",
   "execution_count": 34,
   "id": "11a53906",
   "metadata": {
    "scrolled": false
   },
   "outputs": [
    {
     "name": "stderr",
     "output_type": "stream",
     "text": [
      "[Stage 69:===========================================>              (3 + 1) / 4]\r"
     ]
    },
    {
     "name": "stdout",
     "output_type": "stream",
     "text": [
      "+--------------+-----------+------------+\n",
      "|formatted_date|day_of_week|count_of_IDs|\n",
      "+--------------+-----------+------------+\n",
      "|2009-04-06    |Mon        |1351        |\n",
      "|2009-04-07    |Tue        |19292       |\n",
      "|2009-04-17    |Fri        |3083        |\n",
      "|2009-04-18    |Sat        |19732       |\n",
      "|2009-04-19    |Sun        |27415       |\n",
      "|2009-04-20    |Mon        |18478       |\n",
      "|2009-04-21    |Tue        |10552       |\n",
      "|2009-05-01    |Fri        |5722        |\n",
      "|2009-05-02    |Sat        |27492       |\n",
      "|2009-05-03    |Sun        |35167       |\n",
      "|2009-05-04    |Mon        |17474       |\n",
      "|2009-05-09    |Sat        |9755        |\n",
      "|2009-05-10    |Sun        |27961       |\n",
      "|2009-05-11    |Mon        |2840        |\n",
      "|2009-05-12    |Tue        |1344        |\n",
      "|2009-05-13    |Wed        |2154        |\n",
      "|2009-05-14    |Thu        |19340       |\n",
      "|2009-05-16    |Sat        |7204        |\n",
      "|2009-05-17    |Sun        |38181       |\n",
      "|2009-05-18    |Mon        |40271       |\n",
      "|2009-05-22    |Fri        |41146       |\n",
      "|2009-05-23    |Sat        |169         |\n",
      "|2009-05-25    |Mon        |169         |\n",
      "|2009-05-26    |Tue        |9092        |\n",
      "|2009-05-27    |Wed        |2517        |\n",
      "|2009-05-28    |Thu        |11455       |\n",
      "|2009-05-29    |Fri        |74301       |\n",
      "|2009-05-30    |Sat        |103606      |\n",
      "|2009-05-31    |Sun        |94030       |\n",
      "|2009-06-01    |Mon        |109721      |\n",
      "|2009-06-02    |Tue        |64369       |\n",
      "|2009-06-03    |Wed        |45939       |\n",
      "|2009-06-04    |Thu        |6763        |\n",
      "|2009-06-05    |Fri        |55256       |\n",
      "|2009-06-06    |Sat        |111649      |\n",
      "|2009-06-07    |Sun        |100618      |\n",
      "|2009-06-14    |Sun        |3562        |\n",
      "|2009-06-15    |Mon        |109821      |\n",
      "|2009-06-16    |Tue        |70463       |\n",
      "|2009-06-17    |Wed        |44063       |\n",
      "|2009-06-18    |Thu        |43046       |\n",
      "|2009-06-19    |Fri        |43351       |\n",
      "|2009-06-20    |Sat        |45238       |\n",
      "|2009-06-21    |Sun        |18159       |\n",
      "|2009-06-22    |Mon        |12009       |\n",
      "|2009-06-23    |Tue        |17002       |\n",
      "|2009-06-24    |Wed        |4291        |\n",
      "|2009-06-25    |Thu        |21702       |\n",
      "+--------------+-----------+------------+\n",
      "\n"
     ]
    },
    {
     "name": "stderr",
     "output_type": "stream",
     "text": [
      "\r",
      "                                                                                \r"
     ]
    }
   ],
   "source": [
    "# Count the number of distinct IDs for each 'formatted_date' and 'day_of_week'\n",
    "distinct_id_count = df.groupBy(\"formatted_date\", \"day_of_week\").agg(countDistinct(\"ID\").alias(\"count_of_IDs\"))\n",
    "\n",
    "# Sort the data by 'formatted_date'\n",
    "sorted_data = distinct_id_count.orderBy(\"formatted_date\")\n",
    "\n",
    "# Show all the results\n",
    "sorted_data.show(sorted_data.count(), truncate=False)"
   ]
  },
  {
   "cell_type": "code",
   "execution_count": 38,
   "id": "c25c9d0e",
   "metadata": {
    "scrolled": false
   },
   "outputs": [
    {
     "name": "stderr",
     "output_type": "stream",
     "text": [
      "                                                                                \r"
     ]
    },
    {
     "data": {
      "image/png": "[encoded data removed]",
      "text/plain": [
       "<Figure size 1008x432 with 1 Axes>"
      ]
     },
     "metadata": {
      "needs_background": "light"
     },
     "output_type": "display_data"
    }
   ],
   "source": [
    "# Extracting data for plotting\n",
    "dates = sorted_data.select(\"formatted_date\").rdd.flatMap(lambda x: x).collect()\n",
    "counts = sorted_data.select(\"count_of_IDs\").rdd.flatMap(lambda x: x).collect()\n",
    "\n",
    "# Plotting\n",
    "plt.figure(figsize=(14, 6))\n",
    "plt.plot(dates, counts, linestyle='-')\n",
    "plt.title(\"Number of Tweets Over Time\")\n",
    "plt.xlabel(\"Date\")\n",
    "plt.ylabel(\"Number of Tweets\")\n",
    "plt.xticks(rotation=45)\n",
    "plt.grid(True)\n",
    "plt.tight_layout()\n",
    "plt.show()"
   ]
  },
  {
   "cell_type": "code",
   "execution_count": 42,
   "id": "4fe86e61",
   "metadata": {},
   "outputs": [
    {
     "name": "stderr",
     "output_type": "stream",
     "text": [
      "24/05/22 07:53:02 WARN RowBasedKeyValueBatch: Calling spill() on RowBasedKeyValueBatch. Will not spill but return 0.\n",
      "24/05/22 07:53:02 WARN RowBasedKeyValueBatch: Calling spill() on RowBasedKeyValueBatch. Will not spill but return 0.\n",
      "24/05/22 07:53:02 WARN RowBasedKeyValueBatch: Calling spill() on RowBasedKeyValueBatch. Will not spill but return 0.\n",
      "24/05/22 07:53:02 WARN RowBasedKeyValueBatch: Calling spill() on RowBasedKeyValueBatch. Will not spill but return 0.\n",
      "[Stage 190:==================================>                      (3 + 2) / 5]\r"
     ]
    },
    {
     "name": "stdout",
     "output_type": "stream",
     "text": [
      "+-----------------------+-----+\n",
      "|clean_text             |count|\n",
      "+-----------------------+-----+\n",
      "|good morning           |476  |\n",
      "|headache               |289  |\n",
      "|goodnight              |257  |\n",
      "|happy mothers day      |231  |\n",
      "|my tummy hurts         |212  |\n",
      "|isplayer has died sorry|210  |\n",
      "|at work                |185  |\n",
      "|its raining            |158  |\n",
      "|good morning everyone  |141  |\n",
      "|my head hurts          |128  |\n",
      "|back to work           |121  |\n",
      "|homework               |119  |\n",
      "|off to work            |119  |\n",
      "|just woke up           |112  |\n",
      "|i have a headache      |112  |\n",
      "|so tired               |109  |\n",
      "|i miss you             |106  |\n",
      "|i dont feel good       |90   |\n",
      "|getting ready for work |90   |\n",
      "|nothing                |88   |\n",
      "+-----------------------+-----+\n",
      "\n"
     ]
    },
    {
     "name": "stderr",
     "output_type": "stream",
     "text": [
      "\r",
      "[Stage 193:>                                                        (0 + 4) / 5]\r",
      "\r",
      "                                                                                \r"
     ]
    }
   ],
   "source": [
    "from pyspark.sql.functions import desc, lower, trim, regexp_replace\n",
    "\n",
    "# Standardize the text column by converting to lowercase and removing extra spaces and punctuation\n",
    "cleaned_df = df.withColumn(\"clean_text\", lower(trim(regexp_replace(df[\"text\"], \"[^\\w\\s]\", \"\"))))\n",
    "\n",
    "# Group by 'clean_text' column and count occurrences, then order by count in descending order\n",
    "most_frequent_tweets = cleaned_df.groupBy(\"clean_text\").count().orderBy(desc(\"count\")).limit(20)\n",
    "\n",
    "# Show the first 20 most frequent tweets\n",
    "most_frequent_tweets.show(truncate=False)"
   ]
  },
  {
   "cell_type": "code",
   "execution_count": 16,
   "id": "c6f7c727",
   "metadata": {
    "scrolled": false
   },
   "outputs": [
    {
     "name": "stderr",
     "output_type": "stream",
     "text": [
      "                                                                                \r"
     ]
    },
    {
     "name": "stdout",
     "output_type": "stream",
     "text": [
      "+--------------+------------+\n",
      "|formatted_date|count_of_IDs|\n",
      "+--------------+------------+\n",
      "|2009-04-06    |1351        |\n",
      "|2009-04-07    |19292       |\n",
      "|2009-04-17    |3083        |\n",
      "|2009-04-18    |19732       |\n",
      "|2009-04-19    |27415       |\n",
      "|2009-04-20    |18478       |\n",
      "|2009-04-21    |10552       |\n",
      "|2009-05-01    |5722        |\n",
      "|2009-05-02    |27492       |\n",
      "|2009-05-03    |35167       |\n",
      "|2009-05-04    |17474       |\n",
      "|2009-05-09    |9755        |\n",
      "|2009-05-10    |27961       |\n",
      "|2009-05-11    |2840        |\n",
      "|2009-05-12    |1344        |\n",
      "|2009-05-13    |2154        |\n",
      "|2009-05-14    |19340       |\n",
      "|2009-05-16    |7204        |\n",
      "|2009-05-17    |38181       |\n",
      "|2009-05-18    |40271       |\n",
      "|2009-05-22    |41146       |\n",
      "|2009-05-23    |169         |\n",
      "|2009-05-25    |169         |\n",
      "|2009-05-26    |9092        |\n",
      "|2009-05-27    |2517        |\n",
      "|2009-05-28    |11455       |\n",
      "|2009-05-29    |74301       |\n",
      "|2009-05-30    |103606      |\n",
      "|2009-05-31    |94030       |\n",
      "|2009-06-01    |109721      |\n",
      "|2009-06-02    |64369       |\n",
      "|2009-06-03    |45939       |\n",
      "|2009-06-04    |6763        |\n",
      "|2009-06-05    |55256       |\n",
      "|2009-06-06    |111649      |\n",
      "|2009-06-07    |100618      |\n",
      "|2009-06-14    |3562        |\n",
      "|2009-06-15    |109821      |\n",
      "|2009-06-16    |70463       |\n",
      "|2009-06-17    |44063       |\n",
      "|2009-06-18    |43046       |\n",
      "|2009-06-19    |43351       |\n",
      "|2009-06-20    |45238       |\n",
      "|2009-06-21    |18159       |\n",
      "|2009-06-22    |12009       |\n",
      "|2009-06-23    |17002       |\n",
      "|2009-06-24    |4291        |\n",
      "|2009-06-25    |21702       |\n",
      "+--------------+------------+\n",
      "\n"
     ]
    }
   ],
   "source": [
    "# Count the number of distinct IDs for each 'formatted_date'\n",
    "distinct_id_count = df.groupBy(\"formatted_date\").agg(countDistinct(\"ID\").alias(\"count_of_IDs\"))\n",
    "\n",
    "# Sort the data by 'formatted_date'\n",
    "sorted_data = distinct_id_count.orderBy(\"formatted_date\")\n",
    "\n",
    "# Show the results\n",
    "sorted_data.show(sorted_data.count(), truncate=False)"
   ]
  },
  {
   "cell_type": "code",
   "execution_count": 17,
   "id": "71698395",
   "metadata": {},
   "outputs": [
    {
     "name": "stderr",
     "output_type": "stream",
     "text": [
      "[Stage 64:===========================================>              (3 + 1) / 4]\r"
     ]
    },
    {
     "name": "stdout",
     "output_type": "stream",
     "text": [
      "+------------------+\n",
      "|max_total_id_count|\n",
      "+------------------+\n",
      "|            111649|\n",
      "+------------------+\n",
      "\n"
     ]
    },
    {
     "name": "stderr",
     "output_type": "stream",
     "text": [
      "\r",
      "                                                                                \r"
     ]
    }
   ],
   "source": [
    "# Calculate the total number of IDs (including duplicates) for each 'formatted_date'\n",
    "total_id_count = df.groupBy(\"formatted_date\").agg(count(\"ID\").alias(\"total_id_count\"))\n",
    "\n",
    "# Find the maximum of 'total_id_count' across all days\n",
    "max_total_id_count = total_id_count.agg(max(\"total_id_count\").alias(\"max_total_id_count\"))\n",
    "\n",
    "# Show the maximum number of IDs\n",
    "max_total_id_count.show()"
   ]
  },
  {
   "cell_type": "code",
   "execution_count": 18,
   "id": "26b7e878",
   "metadata": {
    "scrolled": true
   },
   "outputs": [
    {
     "name": "stderr",
     "output_type": "stream",
     "text": [
      "[Stage 74:==============>                                           (1 + 3) / 4]\r"
     ]
    },
    {
     "name": "stdout",
     "output_type": "stream",
     "text": [
      "+-------------------+\n",
      "|distinct_days_count|\n",
      "+-------------------+\n",
      "|                 48|\n",
      "+-------------------+\n",
      "\n"
     ]
    },
    {
     "name": "stderr",
     "output_type": "stream",
     "text": [
      "\r",
      "                                                                                \r"
     ]
    }
   ],
   "source": [
    "# Count the number of distinct 'formatted_date' entries\n",
    "distinct_days_count = df.select(countDistinct(\"formatted_date\").alias(\"distinct_days_count\"))\n",
    "\n",
    "# Show the number of distinct days\n",
    "distinct_days_count.show()"
   ]
  },
  {
   "cell_type": "code",
   "execution_count": 19,
   "id": "c76ae8b1",
   "metadata": {
    "scrolled": true
   },
   "outputs": [
    {
     "name": "stderr",
     "output_type": "stream",
     "text": [
      "                                                                                \r"
     ]
    }
   ],
   "source": [
    "df_single_partition = df.repartition(1)\n",
    "\n",
    "df_single_partition.write.csv(\"hdfs://localhost:9000/user1/PrepTweets.csv\", header=True, mode=\"overwrite\")\n"
   ]
  },
  {
   "cell_type": "code",
   "execution_count": 18,
   "id": "36e2d81d",
   "metadata": {},
   "outputs": [
    {
     "name": "stderr",
     "output_type": "stream",
     "text": [
      "                                                                                \r"
     ]
    }
   ],
   "source": [
    "# Write DataFrame to MongoDB\n",
    "df.write.format(\"com.mongodb.spark.sql.DefaultSource\"\n",
    "               ).option(\"spark.mongodb.output.uri\",\"mongodb://localhost:27017/Tweets_db.my_collection\"\n",
    "                       ).mode(\"overwrite\").save()"
   ]
  },
  {
   "cell_type": "code",
   "execution_count": null,
   "id": "59669685",
   "metadata": {},
   "outputs": [],
   "source": []
  },
  {
   "cell_type": "code",
   "execution_count": null,
   "id": "a3ffb4c6",
   "metadata": {},
   "outputs": [],
   "source": []
  },
  {
   "cell_type": "code",
   "execution_count": null,
   "id": "c2a69d5c",
   "metadata": {},
   "outputs": [],
   "source": []
  }
 ],
 "metadata": {
  "kernelspec": {
   "display_name": "Python 3 (ipykernel)",
   "language": "python",
   "name": "python3"
  },
  "language_info": {
   "codemirror_mode": {
    "name": "ipython",
    "version": 3
   },
   "file_extension": ".py",
   "mimetype": "text/x-python",
   "name": "python",
   "nbconvert_exporter": "python",
   "pygments_lexer": "ipython3",
   "version": "3.11.4"
  }
 },
 "nbformat": 4,
 "nbformat_minor": 5
}
